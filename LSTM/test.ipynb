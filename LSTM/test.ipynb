{
 "cells": [
  {
   "cell_type": "code",
   "execution_count": 3,
   "metadata": {},
   "outputs": [],
   "source": [
    "from pyvi import ViTokenizer, ViPosTagger\n",
    "import string\n",
    "import os\n",
    "import pickle\n",
    "import keras"
   ]
  },
  {
   "cell_type": "code",
   "execution_count": 9,
   "metadata": {},
   "outputs": [],
   "source": [
    "from transformers import AutoTokenizer\n",
    "import numpy as np"
   ]
  },
  {
   "cell_type": "code",
   "execution_count": 10,
   "metadata": {},
   "outputs": [
    {
     "name": "stderr",
     "output_type": "stream",
     "text": [
      "Special tokens have been added in the vocabulary, make sure the associated word embeddings are fine-tuned or trained.\n"
     ]
    }
   ],
   "source": [
    "tokenizer_bert = AutoTokenizer.from_pretrained('vinai/phobert-base')"
   ]
  },
  {
   "cell_type": "code",
   "execution_count": 1,
   "metadata": {},
   "outputs": [],
   "source": [
    "def clean_document(doc):\n",
    "    doc = ViTokenizer.tokenize(doc) \n",
    "    doc = doc.lower()\n",
    "    tokens = doc.split()\n",
    "    table = str.maketrans('', '', string.punctuation.replace(\"_\", \"\"))\n",
    "    tokens = [w.translate(table) for w in tokens]\n",
    "    tokens = [word for word in tokens if word]\n",
    "    return tokens"
   ]
  },
  {
   "cell_type": "code",
   "execution_count": 4,
   "metadata": {},
   "outputs": [
    {
     "name": "stdout",
     "output_type": "stream",
     "text": [
      "Năm 2024 nghỉ Tết âm lịch 7 ngày, dịp lễ Quốc khánh nghỉ 4 ngày.\n",
      "['năm', '2024', 'nghỉ', 'tết', 'âm_lịch', '7', 'ngày', 'dịp', 'lễ', 'quốc_khánh', 'nghỉ', '4', 'ngày']\n"
     ]
    }
   ],
   "source": [
    "text = \"Năm 2024 nghỉ Tết âm lịch 7 ngày, dịp lễ Quốc khánh nghỉ 4 ngày.\"\n",
    "tokens = clean_document(text)\n",
    "print(text)\n",
    "print(tokens)"
   ]
  },
  {
   "cell_type": "code",
   "execution_count": 8,
   "metadata": {},
   "outputs": [
    {
     "name": "stdout",
     "output_type": "stream",
     "text": [
      "{'nghỉ': 1, 'ngày': 2, 'năm': 3, '2024': 4, 'tết': 5, 'âm': 6, 'lịch': 7, '7': 8, 'dịp': 9, 'lễ': 10, 'quốc': 11, 'khánh': 12, '4': 13}\n",
      "[[3, 4, 1, 5, 6, 7, 8, 2, 9, 10, 11, 12, 1, 13, 2]]\n"
     ]
    }
   ],
   "source": [
    "tokenizer = keras.preprocessing.text.Tokenizer(filters='!\"#$%&()*+,-./:;<=>?@[\\]^`{|}~ ')\n",
    "tokenizer.fit_on_texts([text])\n",
    "print(tokenizer.word_index)\n",
    "sequences_digit = tokenizer.texts_to_sequences([text])\n",
    "print(sequences_digit)"
   ]
  },
  {
   "cell_type": "code",
   "execution_count": 16,
   "metadata": {},
   "outputs": [
    {
     "name": "stdout",
     "output_type": "stream",
     "text": [
      "Năm 2024 nghỉ Tết âm lịch 7 ngày, dịp lễ Quốc khánh nghỉ 4 ngày.\n",
      "[3, 1, 1, 1, 1, 1, 1, 1, 1, 1, 1, 1, 1, 1, 1, 1, 1, 1, 1, 1]\n"
     ]
    }
   ],
   "source": [
    "def encode_and_pad(token_list, max_len):\n",
    "    token_ids = tokenizer_bert.convert_tokens_to_ids(token_list)\n",
    "    padding_length = max_len - len(token_ids)\n",
    "    if padding_length > 0:  # Padding\n",
    "        token_ids = token_ids + [tokenizer_bert.pad_token_id] * padding_length\n",
    "    elif padding_length < 0:  # Truncating\n",
    "        token_ids = token_ids[:max_len]\n",
    "    return token_ids\n",
    "\n",
    "print(text)\n",
    "encoded_texts = encode_and_pad([text], 20)\n",
    "print(encoded_texts)"
   ]
  }
 ],
 "metadata": {
  "kernelspec": {
   "display_name": "base",
   "language": "python",
   "name": "python3"
  },
  "language_info": {
   "codemirror_mode": {
    "name": "ipython",
    "version": 3
   },
   "file_extension": ".py",
   "mimetype": "text/x-python",
   "name": "python",
   "nbconvert_exporter": "python",
   "pygments_lexer": "ipython3",
   "version": "3.9.13"
  }
 },
 "nbformat": 4,
 "nbformat_minor": 2
}
