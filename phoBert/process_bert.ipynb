{
 "cells": [
  {
   "cell_type": "code",
   "execution_count": 1,
   "metadata": {},
   "outputs": [],
   "source": [
    "from transformers import AutoTokenizer\n",
    "import numpy as np"
   ]
  },
  {
   "cell_type": "code",
   "execution_count": 2,
   "metadata": {},
   "outputs": [],
   "source": [
    "MAX_LEN = 64\n",
    "BATCH_SIZE = 32"
   ]
  },
  {
   "cell_type": "code",
   "execution_count": 3,
   "metadata": {},
   "outputs": [
    {
     "name": "stderr",
     "output_type": "stream",
     "text": [
      "Special tokens have been added in the vocabulary, make sure the associated word embeddings are fine-tuned or trained.\n"
     ]
    }
   ],
   "source": [
    "tokenizer = AutoTokenizer.from_pretrained('vinai/phobert-base')"
   ]
  },
  {
   "cell_type": "code",
   "execution_count": 4,
   "metadata": {},
   "outputs": [],
   "source": [
    "# Hàm chuyển đổi token thành ID và padding/truncating\n",
    "def encode_and_pad(token_list, max_len):\n",
    "    token_ids = tokenizer.convert_tokens_to_ids(token_list)\n",
    "    padding_length = max_len - len(token_ids)\n",
    "    if padding_length > 0:  # Padding\n",
    "        token_ids = token_ids + [tokenizer.pad_token_id] * padding_length\n",
    "    elif padding_length < 0:  # Truncating\n",
    "        token_ids = token_ids[:max_len]\n",
    "    return token_ids"
   ]
  },
  {
   "cell_type": "code",
   "execution_count": 5,
   "metadata": {},
   "outputs": [],
   "source": [
    "import pickle\n",
    "with open('./0.VanHoaFull/processed_texts.pkl', 'rb') as f:\n",
    "    tokenized_texts = pickle.load(f)"
   ]
  },
  {
   "cell_type": "code",
   "execution_count": 6,
   "metadata": {},
   "outputs": [],
   "source": [
    "encoded_texts = [encode_and_pad(tokens, MAX_LEN) for tokens in tokenized_texts]"
   ]
  },
  {
   "cell_type": "code",
   "execution_count": 7,
   "metadata": {},
   "outputs": [],
   "source": [
    "X = np.array([encoded_text[:-1] for encoded_text in encoded_texts])\n",
    "Y = np.array([encoded_text[1:] for encoded_text in encoded_texts])"
   ]
  },
  {
   "cell_type": "code",
   "execution_count": 8,
   "metadata": {},
   "outputs": [],
   "source": [
    "np.savez('./0.VanHoaFull/encoded_texts.npz', X=X, Y=Y)"
   ]
  },
  {
   "cell_type": "code",
   "execution_count": 9,
   "metadata": {},
   "outputs": [
    {
     "name": "stdout",
     "output_type": "stream",
     "text": [
      "[  210    18   258    67     3  1180     3 52657  1421  1342   599  9891\n",
      "     7     3    14   437    40  1092   210   401   638  1136    67     3\n",
      "     9  1818  1151     7    36  1255   555    14  3452    13  5034     7\n",
      "    68    89  3215    37     8     3 30660     3     3     3 24635     3\n",
      " 18016  1180     3 52657     3     3  4787     3     3     6     3   858\n",
      "  8583   246 36946]\n"
     ]
    }
   ],
   "source": [
    "print(X[0])"
   ]
  },
  {
   "cell_type": "code",
   "execution_count": 10,
   "metadata": {},
   "outputs": [
    {
     "name": "stdout",
     "output_type": "stream",
     "text": [
      "[   18   258    67     3  1180     3 52657  1421  1342   599  9891     7\n",
      "     3    14   437    40  1092   210   401   638  1136    67     3     9\n",
      "  1818  1151     7    36  1255   555    14  3452    13  5034     7    68\n",
      "    89  3215    37     8     3 30660     3     3     3 24635     3 18016\n",
      "  1180     3 52657     3     3  4787     3     3     6     3   858  8583\n",
      "   246 36946    49]\n"
     ]
    }
   ],
   "source": [
    "print(Y[0])"
   ]
  },
  {
   "cell_type": "code",
   "execution_count": 15,
   "metadata": {},
   "outputs": [
    {
     "name": "stdout",
     "output_type": "stream",
     "text": [
      "['10', 'người', 'đẹp', 'nhất', 'hàn_quốc', 'song', 'hye', 'kyo', 'kênh', 'truyền_hình', 'm', 'net', 'của', 'hàn_quốc', 'đã']\n",
      "[210, 18, 258, 67, 3, 1180, 3, 52657, 1421, 1342, 599, 9891, 7, 3, 14]\n"
     ]
    }
   ],
   "source": [
    "print(tokenized_texts[0][:15])\n",
    "print(encoded_texts[0][:15])"
   ]
  },
  {
   "cell_type": "code",
   "execution_count": 16,
   "metadata": {},
   "outputs": [],
   "source": [
    "import keras"
   ]
  },
  {
   "cell_type": "code",
   "execution_count": 23,
   "metadata": {},
   "outputs": [
    {
     "name": "stdout",
     "output_type": "stream",
     "text": [
      "['10', 'người', 'đẹp', 'nhất', 'hàn_quốc', 'song', 'hye', 'kyo', 'kênh', 'truyền_hình', 'm', 'net', 'của', 'hàn_quốc', 'đã']\n",
      "[30, 15, 8, 16, 10, 23, 45, 46, 31, 47, 32, 33, 1, 10, 4]\n"
     ]
    }
   ],
   "source": [
    "tokenizer1 = keras.preprocessing.text.Tokenizer(filters='!\"#$%&()*+,-./:;<=>?@[\\]^`{|}~ ')\n",
    "tokenizer1.fit_on_texts([tokenized_texts[0]])\n",
    "# print(tokenizer1.word_index)\n",
    "sequences_digit = tokenizer1.texts_to_sequences([tokenized_texts[0]])\n",
    "print(tokenized_texts[0][:15])\n",
    "print(sequences_digit[0][:15])"
   ]
  }
 ],
 "metadata": {
  "kernelspec": {
   "display_name": "base",
   "language": "python",
   "name": "python3"
  },
  "language_info": {
   "codemirror_mode": {
    "name": "ipython",
    "version": 3
   },
   "file_extension": ".py",
   "mimetype": "text/x-python",
   "name": "python",
   "nbconvert_exporter": "python",
   "pygments_lexer": "ipython3",
   "version": "3.9.13"
  }
 },
 "nbformat": 4,
 "nbformat_minor": 2
}
